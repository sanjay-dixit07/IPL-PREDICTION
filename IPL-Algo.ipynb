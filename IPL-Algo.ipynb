{
 "cells": [
  {
   "cell_type": "code",
   "execution_count": 2,
   "id": "military-humanity",
   "metadata": {},
   "outputs": [],
   "source": [
    "import pandas as pd \n",
    "import joblib\n",
    "from sklearn.preprocessing import LabelEncoder,OneHotEncoder\n",
    "import re"
   ]
  },
  {
   "cell_type": "code",
   "execution_count": 3,
   "id": "verbal-episode",
   "metadata": {},
   "outputs": [
    {
     "name": "stderr",
     "output_type": "stream",
     "text": [
      "C:\\Users\\admin\\anaconda3\\lib\\site-packages\\IPython\\core\\interactiveshell.py:3165: DtypeWarning: Columns (1) have mixed types.Specify dtype option on import or set low_memory=False.\n",
      "  has_raised = await self.run_ast_nodes(code_ast.body, cell_name,\n"
     ]
    }
   ],
   "source": [
    "df = pd.read_csv(r'all_matches.csv')"
   ]
  },
  {
   "cell_type": "code",
   "execution_count": 4,
   "id": "conscious-update",
   "metadata": {},
   "outputs": [],
   "source": [
    "df = df.replace(to_replace =\"Kings XI Punjab\",\n",
    "                 value =\"Punjab Kings\")"
   ]
  },
  {
   "cell_type": "code",
   "execution_count": 5,
   "id": "stable-concentration",
   "metadata": {},
   "outputs": [],
   "source": [
    "columns_to_remove = ['wides','noballs','byes','legbyes','penalty','wicket_type','player_dismissed','other_wicket_type','other_player_dismissed']\n",
    "df.drop(labels=columns_to_remove, axis=1, inplace=True)"
   ]
  },
  {
   "cell_type": "code",
   "execution_count": 6,
   "id": "appointed-order",
   "metadata": {},
   "outputs": [],
   "source": [
    "df['TotalRuns'] = df['runs_off_bat']+df['extras']"
   ]
  },
  {
   "cell_type": "code",
   "execution_count": 7,
   "id": "young-speech",
   "metadata": {},
   "outputs": [],
   "source": [
    "df['bowlers']=df['bowler']"
   ]
  },
  {
   "cell_type": "code",
   "execution_count": 8,
   "id": "funny-butterfly",
   "metadata": {},
   "outputs": [],
   "source": [
    "df['batsmen']=df['striker']"
   ]
  },
  {
   "cell_type": "code",
   "execution_count": 9,
   "id": "green-seeker",
   "metadata": {},
   "outputs": [
    {
     "data": {
      "text/plain": [
       "0          SC Ganguly\n",
       "1         BB McCullum\n",
       "2         BB McCullum\n",
       "3         BB McCullum\n",
       "4         BB McCullum\n",
       "             ...     \n",
       "194349    Abdul Samad\n",
       "194350    Abdul Samad\n",
       "194351      MK Pandey\n",
       "194352    Abdul Samad\n",
       "194353      MK Pandey\n",
       "Name: batsmen, Length: 194354, dtype: object"
      ]
     },
     "execution_count": 9,
     "metadata": {},
     "output_type": "execute_result"
    }
   ],
   "source": [
    "df['batsmen']"
   ]
  },
  {
   "cell_type": "code",
   "execution_count": 10,
   "id": "assigned-roller",
   "metadata": {},
   "outputs": [
    {
     "data": {
      "text/html": [
       "<div>\n",
       "<style scoped>\n",
       "    .dataframe tbody tr th:only-of-type {\n",
       "        vertical-align: middle;\n",
       "    }\n",
       "\n",
       "    .dataframe tbody tr th {\n",
       "        vertical-align: top;\n",
       "    }\n",
       "\n",
       "    .dataframe thead th {\n",
       "        text-align: right;\n",
       "    }\n",
       "</style>\n",
       "<table border=\"1\" class=\"dataframe\">\n",
       "  <thead>\n",
       "    <tr style=\"text-align: right;\">\n",
       "      <th></th>\n",
       "      <th>match_id</th>\n",
       "      <th>season</th>\n",
       "      <th>start_date</th>\n",
       "      <th>venue</th>\n",
       "      <th>innings</th>\n",
       "      <th>ball</th>\n",
       "      <th>batting_team</th>\n",
       "      <th>bowling_team</th>\n",
       "      <th>striker</th>\n",
       "      <th>non_striker</th>\n",
       "      <th>bowler</th>\n",
       "      <th>runs_off_bat</th>\n",
       "      <th>extras</th>\n",
       "      <th>TotalRuns</th>\n",
       "      <th>bowlers</th>\n",
       "      <th>batsmen</th>\n",
       "    </tr>\n",
       "  </thead>\n",
       "  <tbody>\n",
       "    <tr>\n",
       "      <th>0</th>\n",
       "      <td>335982</td>\n",
       "      <td>2007/08</td>\n",
       "      <td>2008-04-18</td>\n",
       "      <td>M Chinnaswamy Stadium</td>\n",
       "      <td>1</td>\n",
       "      <td>0.1</td>\n",
       "      <td>Kolkata Knight Riders</td>\n",
       "      <td>Royal Challengers Bangalore</td>\n",
       "      <td>SC Ganguly</td>\n",
       "      <td>BB McCullum</td>\n",
       "      <td>P Kumar</td>\n",
       "      <td>0</td>\n",
       "      <td>1</td>\n",
       "      <td>1</td>\n",
       "      <td>P Kumar</td>\n",
       "      <td>SC Ganguly</td>\n",
       "    </tr>\n",
       "    <tr>\n",
       "      <th>1</th>\n",
       "      <td>335982</td>\n",
       "      <td>2007/08</td>\n",
       "      <td>2008-04-18</td>\n",
       "      <td>M Chinnaswamy Stadium</td>\n",
       "      <td>1</td>\n",
       "      <td>0.2</td>\n",
       "      <td>Kolkata Knight Riders</td>\n",
       "      <td>Royal Challengers Bangalore</td>\n",
       "      <td>BB McCullum</td>\n",
       "      <td>SC Ganguly</td>\n",
       "      <td>P Kumar</td>\n",
       "      <td>0</td>\n",
       "      <td>0</td>\n",
       "      <td>0</td>\n",
       "      <td>P Kumar</td>\n",
       "      <td>BB McCullum</td>\n",
       "    </tr>\n",
       "    <tr>\n",
       "      <th>2</th>\n",
       "      <td>335982</td>\n",
       "      <td>2007/08</td>\n",
       "      <td>2008-04-18</td>\n",
       "      <td>M Chinnaswamy Stadium</td>\n",
       "      <td>1</td>\n",
       "      <td>0.3</td>\n",
       "      <td>Kolkata Knight Riders</td>\n",
       "      <td>Royal Challengers Bangalore</td>\n",
       "      <td>BB McCullum</td>\n",
       "      <td>SC Ganguly</td>\n",
       "      <td>P Kumar</td>\n",
       "      <td>0</td>\n",
       "      <td>1</td>\n",
       "      <td>1</td>\n",
       "      <td>P Kumar</td>\n",
       "      <td>BB McCullum</td>\n",
       "    </tr>\n",
       "    <tr>\n",
       "      <th>3</th>\n",
       "      <td>335982</td>\n",
       "      <td>2007/08</td>\n",
       "      <td>2008-04-18</td>\n",
       "      <td>M Chinnaswamy Stadium</td>\n",
       "      <td>1</td>\n",
       "      <td>0.4</td>\n",
       "      <td>Kolkata Knight Riders</td>\n",
       "      <td>Royal Challengers Bangalore</td>\n",
       "      <td>BB McCullum</td>\n",
       "      <td>SC Ganguly</td>\n",
       "      <td>P Kumar</td>\n",
       "      <td>0</td>\n",
       "      <td>0</td>\n",
       "      <td>0</td>\n",
       "      <td>P Kumar</td>\n",
       "      <td>BB McCullum</td>\n",
       "    </tr>\n",
       "    <tr>\n",
       "      <th>4</th>\n",
       "      <td>335982</td>\n",
       "      <td>2007/08</td>\n",
       "      <td>2008-04-18</td>\n",
       "      <td>M Chinnaswamy Stadium</td>\n",
       "      <td>1</td>\n",
       "      <td>0.5</td>\n",
       "      <td>Kolkata Knight Riders</td>\n",
       "      <td>Royal Challengers Bangalore</td>\n",
       "      <td>BB McCullum</td>\n",
       "      <td>SC Ganguly</td>\n",
       "      <td>P Kumar</td>\n",
       "      <td>0</td>\n",
       "      <td>0</td>\n",
       "      <td>0</td>\n",
       "      <td>P Kumar</td>\n",
       "      <td>BB McCullum</td>\n",
       "    </tr>\n",
       "    <tr>\n",
       "      <th>...</th>\n",
       "      <td>...</td>\n",
       "      <td>...</td>\n",
       "      <td>...</td>\n",
       "      <td>...</td>\n",
       "      <td>...</td>\n",
       "      <td>...</td>\n",
       "      <td>...</td>\n",
       "      <td>...</td>\n",
       "      <td>...</td>\n",
       "      <td>...</td>\n",
       "      <td>...</td>\n",
       "      <td>...</td>\n",
       "      <td>...</td>\n",
       "      <td>...</td>\n",
       "      <td>...</td>\n",
       "      <td>...</td>\n",
       "    </tr>\n",
       "    <tr>\n",
       "      <th>194349</th>\n",
       "      <td>1254060</td>\n",
       "      <td>2021</td>\n",
       "      <td>2021-04-11</td>\n",
       "      <td>MA Chidambaram Stadium, Chepauk, Chennai</td>\n",
       "      <td>2</td>\n",
       "      <td>19.2</td>\n",
       "      <td>Sunrisers Hyderabad</td>\n",
       "      <td>Kolkata Knight Riders</td>\n",
       "      <td>Abdul Samad</td>\n",
       "      <td>MK Pandey</td>\n",
       "      <td>AD Russell</td>\n",
       "      <td>0</td>\n",
       "      <td>0</td>\n",
       "      <td>0</td>\n",
       "      <td>AD Russell</td>\n",
       "      <td>Abdul Samad</td>\n",
       "    </tr>\n",
       "    <tr>\n",
       "      <th>194350</th>\n",
       "      <td>1254060</td>\n",
       "      <td>2021</td>\n",
       "      <td>2021-04-11</td>\n",
       "      <td>MA Chidambaram Stadium, Chepauk, Chennai</td>\n",
       "      <td>2</td>\n",
       "      <td>19.3</td>\n",
       "      <td>Sunrisers Hyderabad</td>\n",
       "      <td>Kolkata Knight Riders</td>\n",
       "      <td>Abdul Samad</td>\n",
       "      <td>MK Pandey</td>\n",
       "      <td>AD Russell</td>\n",
       "      <td>1</td>\n",
       "      <td>0</td>\n",
       "      <td>1</td>\n",
       "      <td>AD Russell</td>\n",
       "      <td>Abdul Samad</td>\n",
       "    </tr>\n",
       "    <tr>\n",
       "      <th>194351</th>\n",
       "      <td>1254060</td>\n",
       "      <td>2021</td>\n",
       "      <td>2021-04-11</td>\n",
       "      <td>MA Chidambaram Stadium, Chepauk, Chennai</td>\n",
       "      <td>2</td>\n",
       "      <td>19.4</td>\n",
       "      <td>Sunrisers Hyderabad</td>\n",
       "      <td>Kolkata Knight Riders</td>\n",
       "      <td>MK Pandey</td>\n",
       "      <td>Abdul Samad</td>\n",
       "      <td>AD Russell</td>\n",
       "      <td>1</td>\n",
       "      <td>0</td>\n",
       "      <td>1</td>\n",
       "      <td>AD Russell</td>\n",
       "      <td>MK Pandey</td>\n",
       "    </tr>\n",
       "    <tr>\n",
       "      <th>194352</th>\n",
       "      <td>1254060</td>\n",
       "      <td>2021</td>\n",
       "      <td>2021-04-11</td>\n",
       "      <td>MA Chidambaram Stadium, Chepauk, Chennai</td>\n",
       "      <td>2</td>\n",
       "      <td>19.5</td>\n",
       "      <td>Sunrisers Hyderabad</td>\n",
       "      <td>Kolkata Knight Riders</td>\n",
       "      <td>Abdul Samad</td>\n",
       "      <td>MK Pandey</td>\n",
       "      <td>AD Russell</td>\n",
       "      <td>1</td>\n",
       "      <td>0</td>\n",
       "      <td>1</td>\n",
       "      <td>AD Russell</td>\n",
       "      <td>Abdul Samad</td>\n",
       "    </tr>\n",
       "    <tr>\n",
       "      <th>194353</th>\n",
       "      <td>1254060</td>\n",
       "      <td>2021</td>\n",
       "      <td>2021-04-11</td>\n",
       "      <td>MA Chidambaram Stadium, Chepauk, Chennai</td>\n",
       "      <td>2</td>\n",
       "      <td>19.6</td>\n",
       "      <td>Sunrisers Hyderabad</td>\n",
       "      <td>Kolkata Knight Riders</td>\n",
       "      <td>MK Pandey</td>\n",
       "      <td>Abdul Samad</td>\n",
       "      <td>AD Russell</td>\n",
       "      <td>6</td>\n",
       "      <td>0</td>\n",
       "      <td>6</td>\n",
       "      <td>AD Russell</td>\n",
       "      <td>MK Pandey</td>\n",
       "    </tr>\n",
       "  </tbody>\n",
       "</table>\n",
       "<p>194354 rows × 16 columns</p>\n",
       "</div>"
      ],
      "text/plain": [
       "        match_id   season  start_date  \\\n",
       "0         335982  2007/08  2008-04-18   \n",
       "1         335982  2007/08  2008-04-18   \n",
       "2         335982  2007/08  2008-04-18   \n",
       "3         335982  2007/08  2008-04-18   \n",
       "4         335982  2007/08  2008-04-18   \n",
       "...          ...      ...         ...   \n",
       "194349   1254060     2021  2021-04-11   \n",
       "194350   1254060     2021  2021-04-11   \n",
       "194351   1254060     2021  2021-04-11   \n",
       "194352   1254060     2021  2021-04-11   \n",
       "194353   1254060     2021  2021-04-11   \n",
       "\n",
       "                                           venue  innings  ball  \\\n",
       "0                          M Chinnaswamy Stadium        1   0.1   \n",
       "1                          M Chinnaswamy Stadium        1   0.2   \n",
       "2                          M Chinnaswamy Stadium        1   0.3   \n",
       "3                          M Chinnaswamy Stadium        1   0.4   \n",
       "4                          M Chinnaswamy Stadium        1   0.5   \n",
       "...                                          ...      ...   ...   \n",
       "194349  MA Chidambaram Stadium, Chepauk, Chennai        2  19.2   \n",
       "194350  MA Chidambaram Stadium, Chepauk, Chennai        2  19.3   \n",
       "194351  MA Chidambaram Stadium, Chepauk, Chennai        2  19.4   \n",
       "194352  MA Chidambaram Stadium, Chepauk, Chennai        2  19.5   \n",
       "194353  MA Chidambaram Stadium, Chepauk, Chennai        2  19.6   \n",
       "\n",
       "                 batting_team                 bowling_team      striker  \\\n",
       "0       Kolkata Knight Riders  Royal Challengers Bangalore   SC Ganguly   \n",
       "1       Kolkata Knight Riders  Royal Challengers Bangalore  BB McCullum   \n",
       "2       Kolkata Knight Riders  Royal Challengers Bangalore  BB McCullum   \n",
       "3       Kolkata Knight Riders  Royal Challengers Bangalore  BB McCullum   \n",
       "4       Kolkata Knight Riders  Royal Challengers Bangalore  BB McCullum   \n",
       "...                       ...                          ...          ...   \n",
       "194349    Sunrisers Hyderabad        Kolkata Knight Riders  Abdul Samad   \n",
       "194350    Sunrisers Hyderabad        Kolkata Knight Riders  Abdul Samad   \n",
       "194351    Sunrisers Hyderabad        Kolkata Knight Riders    MK Pandey   \n",
       "194352    Sunrisers Hyderabad        Kolkata Knight Riders  Abdul Samad   \n",
       "194353    Sunrisers Hyderabad        Kolkata Knight Riders    MK Pandey   \n",
       "\n",
       "        non_striker      bowler  runs_off_bat  extras  TotalRuns     bowlers  \\\n",
       "0       BB McCullum     P Kumar             0       1          1     P Kumar   \n",
       "1        SC Ganguly     P Kumar             0       0          0     P Kumar   \n",
       "2        SC Ganguly     P Kumar             0       1          1     P Kumar   \n",
       "3        SC Ganguly     P Kumar             0       0          0     P Kumar   \n",
       "4        SC Ganguly     P Kumar             0       0          0     P Kumar   \n",
       "...             ...         ...           ...     ...        ...         ...   \n",
       "194349    MK Pandey  AD Russell             0       0          0  AD Russell   \n",
       "194350    MK Pandey  AD Russell             1       0          1  AD Russell   \n",
       "194351  Abdul Samad  AD Russell             1       0          1  AD Russell   \n",
       "194352    MK Pandey  AD Russell             1       0          1  AD Russell   \n",
       "194353  Abdul Samad  AD Russell             6       0          6  AD Russell   \n",
       "\n",
       "            batsmen  \n",
       "0        SC Ganguly  \n",
       "1       BB McCullum  \n",
       "2       BB McCullum  \n",
       "3       BB McCullum  \n",
       "4       BB McCullum  \n",
       "...             ...  \n",
       "194349  Abdul Samad  \n",
       "194350  Abdul Samad  \n",
       "194351    MK Pandey  \n",
       "194352  Abdul Samad  \n",
       "194353    MK Pandey  \n",
       "\n",
       "[194354 rows x 16 columns]"
      ]
     },
     "execution_count": 10,
     "metadata": {},
     "output_type": "execute_result"
    }
   ],
   "source": [
    "df"
   ]
  },
  {
   "cell_type": "code",
   "execution_count": 11,
   "id": "conventional-witch",
   "metadata": {},
   "outputs": [],
   "source": [
    "df=df.drop(columns=['runs_off_bat','extras'])"
   ]
  },
  {
   "cell_type": "code",
   "execution_count": 12,
   "id": "entitled-hungary",
   "metadata": {},
   "outputs": [],
   "source": [
    "df=df[df['innings']<=2]"
   ]
  },
  {
   "cell_type": "code",
   "execution_count": 13,
   "id": "billion-business",
   "metadata": {},
   "outputs": [],
   "source": [
    "from datetime import datetime\n",
    "df['start_date'] = df['start_date'].apply(lambda x: datetime.strptime(x, '%Y-%m-%d'))"
   ]
  },
  {
   "cell_type": "code",
   "execution_count": 14,
   "id": "current-difference",
   "metadata": {},
   "outputs": [],
   "source": [
    "df_prepro=df.copy()"
   ]
  },
  {
   "cell_type": "code",
   "execution_count": 15,
   "id": "continent-helping",
   "metadata": {},
   "outputs": [],
   "source": [
    "df_prepro=df_prepro.groupby(['start_date','match_id','venue','batting_team','bowling_team','innings']).TotalRuns.sum()"
   ]
  },
  {
   "cell_type": "code",
   "execution_count": 16,
   "id": "looking-motor",
   "metadata": {},
   "outputs": [
    {
     "data": {
      "text/plain": [
       "start_date  match_id  venue                                       batting_team                 bowling_team                 innings\n",
       "2008-04-18  335982    M Chinnaswamy Stadium                       Kolkata Knight Riders        Royal Challengers Bangalore  1          222\n",
       "                                                                  Royal Challengers Bangalore  Kolkata Knight Riders        2           82\n",
       "2008-04-19  335983    Punjab Cricket Association Stadium, Mohali  Chennai Super Kings          Punjab Kings                 1          240\n",
       "                                                                  Punjab Kings                 Chennai Super Kings          2          207\n",
       "            335984    Feroz Shah Kotla                            Delhi Daredevils             Rajasthan Royals             2          132\n",
       "                                                                                                                                      ... \n",
       "2021-04-09  1254058   MA Chidambaram Stadium, Chepauk, Chennai    Royal Challengers Bangalore  Mumbai Indians               2          160\n",
       "2021-04-10  1254059   Wankhede Stadium, Mumbai                    Chennai Super Kings          Delhi Capitals               1          188\n",
       "                                                                  Delhi Capitals               Chennai Super Kings          2          190\n",
       "2021-04-11  1254060   MA Chidambaram Stadium, Chepauk, Chennai    Kolkata Knight Riders        Sunrisers Hyderabad          1          187\n",
       "                                                                  Sunrisers Hyderabad          Kolkata Knight Riders        2          177\n",
       "Name: TotalRuns, Length: 1636, dtype: int64"
      ]
     },
     "execution_count": 16,
     "metadata": {},
     "output_type": "execute_result"
    }
   ],
   "source": [
    "df_prepro"
   ]
  },
  {
   "cell_type": "code",
   "execution_count": 17,
   "id": "otherwise-champion",
   "metadata": {},
   "outputs": [],
   "source": [
    "df_prepro=df_prepro.reset_index()"
   ]
  },
  {
   "cell_type": "code",
   "execution_count": 18,
   "id": "insured-uruguay",
   "metadata": {},
   "outputs": [
    {
     "data": {
      "text/html": [
       "<div>\n",
       "<style scoped>\n",
       "    .dataframe tbody tr th:only-of-type {\n",
       "        vertical-align: middle;\n",
       "    }\n",
       "\n",
       "    .dataframe tbody tr th {\n",
       "        vertical-align: top;\n",
       "    }\n",
       "\n",
       "    .dataframe thead th {\n",
       "        text-align: right;\n",
       "    }\n",
       "</style>\n",
       "<table border=\"1\" class=\"dataframe\">\n",
       "  <thead>\n",
       "    <tr style=\"text-align: right;\">\n",
       "      <th></th>\n",
       "      <th>start_date</th>\n",
       "      <th>match_id</th>\n",
       "      <th>venue</th>\n",
       "      <th>batting_team</th>\n",
       "      <th>bowling_team</th>\n",
       "      <th>innings</th>\n",
       "      <th>TotalRuns</th>\n",
       "    </tr>\n",
       "  </thead>\n",
       "  <tbody>\n",
       "    <tr>\n",
       "      <th>0</th>\n",
       "      <td>2008-04-18</td>\n",
       "      <td>335982</td>\n",
       "      <td>M Chinnaswamy Stadium</td>\n",
       "      <td>Kolkata Knight Riders</td>\n",
       "      <td>Royal Challengers Bangalore</td>\n",
       "      <td>1</td>\n",
       "      <td>222</td>\n",
       "    </tr>\n",
       "    <tr>\n",
       "      <th>1</th>\n",
       "      <td>2008-04-18</td>\n",
       "      <td>335982</td>\n",
       "      <td>M Chinnaswamy Stadium</td>\n",
       "      <td>Royal Challengers Bangalore</td>\n",
       "      <td>Kolkata Knight Riders</td>\n",
       "      <td>2</td>\n",
       "      <td>82</td>\n",
       "    </tr>\n",
       "    <tr>\n",
       "      <th>2</th>\n",
       "      <td>2008-04-19</td>\n",
       "      <td>335983</td>\n",
       "      <td>Punjab Cricket Association Stadium, Mohali</td>\n",
       "      <td>Chennai Super Kings</td>\n",
       "      <td>Punjab Kings</td>\n",
       "      <td>1</td>\n",
       "      <td>240</td>\n",
       "    </tr>\n",
       "    <tr>\n",
       "      <th>3</th>\n",
       "      <td>2008-04-19</td>\n",
       "      <td>335983</td>\n",
       "      <td>Punjab Cricket Association Stadium, Mohali</td>\n",
       "      <td>Punjab Kings</td>\n",
       "      <td>Chennai Super Kings</td>\n",
       "      <td>2</td>\n",
       "      <td>207</td>\n",
       "    </tr>\n",
       "    <tr>\n",
       "      <th>4</th>\n",
       "      <td>2008-04-19</td>\n",
       "      <td>335984</td>\n",
       "      <td>Feroz Shah Kotla</td>\n",
       "      <td>Delhi Daredevils</td>\n",
       "      <td>Rajasthan Royals</td>\n",
       "      <td>2</td>\n",
       "      <td>132</td>\n",
       "    </tr>\n",
       "    <tr>\n",
       "      <th>...</th>\n",
       "      <td>...</td>\n",
       "      <td>...</td>\n",
       "      <td>...</td>\n",
       "      <td>...</td>\n",
       "      <td>...</td>\n",
       "      <td>...</td>\n",
       "      <td>...</td>\n",
       "    </tr>\n",
       "    <tr>\n",
       "      <th>1631</th>\n",
       "      <td>2021-04-09</td>\n",
       "      <td>1254058</td>\n",
       "      <td>MA Chidambaram Stadium, Chepauk, Chennai</td>\n",
       "      <td>Royal Challengers Bangalore</td>\n",
       "      <td>Mumbai Indians</td>\n",
       "      <td>2</td>\n",
       "      <td>160</td>\n",
       "    </tr>\n",
       "    <tr>\n",
       "      <th>1632</th>\n",
       "      <td>2021-04-10</td>\n",
       "      <td>1254059</td>\n",
       "      <td>Wankhede Stadium, Mumbai</td>\n",
       "      <td>Chennai Super Kings</td>\n",
       "      <td>Delhi Capitals</td>\n",
       "      <td>1</td>\n",
       "      <td>188</td>\n",
       "    </tr>\n",
       "    <tr>\n",
       "      <th>1633</th>\n",
       "      <td>2021-04-10</td>\n",
       "      <td>1254059</td>\n",
       "      <td>Wankhede Stadium, Mumbai</td>\n",
       "      <td>Delhi Capitals</td>\n",
       "      <td>Chennai Super Kings</td>\n",
       "      <td>2</td>\n",
       "      <td>190</td>\n",
       "    </tr>\n",
       "    <tr>\n",
       "      <th>1634</th>\n",
       "      <td>2021-04-11</td>\n",
       "      <td>1254060</td>\n",
       "      <td>MA Chidambaram Stadium, Chepauk, Chennai</td>\n",
       "      <td>Kolkata Knight Riders</td>\n",
       "      <td>Sunrisers Hyderabad</td>\n",
       "      <td>1</td>\n",
       "      <td>187</td>\n",
       "    </tr>\n",
       "    <tr>\n",
       "      <th>1635</th>\n",
       "      <td>2021-04-11</td>\n",
       "      <td>1254060</td>\n",
       "      <td>MA Chidambaram Stadium, Chepauk, Chennai</td>\n",
       "      <td>Sunrisers Hyderabad</td>\n",
       "      <td>Kolkata Knight Riders</td>\n",
       "      <td>2</td>\n",
       "      <td>177</td>\n",
       "    </tr>\n",
       "  </tbody>\n",
       "</table>\n",
       "<p>1636 rows × 7 columns</p>\n",
       "</div>"
      ],
      "text/plain": [
       "     start_date  match_id                                       venue  \\\n",
       "0    2008-04-18    335982                       M Chinnaswamy Stadium   \n",
       "1    2008-04-18    335982                       M Chinnaswamy Stadium   \n",
       "2    2008-04-19    335983  Punjab Cricket Association Stadium, Mohali   \n",
       "3    2008-04-19    335983  Punjab Cricket Association Stadium, Mohali   \n",
       "4    2008-04-19    335984                            Feroz Shah Kotla   \n",
       "...         ...       ...                                         ...   \n",
       "1631 2021-04-09   1254058    MA Chidambaram Stadium, Chepauk, Chennai   \n",
       "1632 2021-04-10   1254059                    Wankhede Stadium, Mumbai   \n",
       "1633 2021-04-10   1254059                    Wankhede Stadium, Mumbai   \n",
       "1634 2021-04-11   1254060    MA Chidambaram Stadium, Chepauk, Chennai   \n",
       "1635 2021-04-11   1254060    MA Chidambaram Stadium, Chepauk, Chennai   \n",
       "\n",
       "                     batting_team                 bowling_team  innings  \\\n",
       "0           Kolkata Knight Riders  Royal Challengers Bangalore        1   \n",
       "1     Royal Challengers Bangalore        Kolkata Knight Riders        2   \n",
       "2             Chennai Super Kings                 Punjab Kings        1   \n",
       "3                    Punjab Kings          Chennai Super Kings        2   \n",
       "4                Delhi Daredevils             Rajasthan Royals        2   \n",
       "...                           ...                          ...      ...   \n",
       "1631  Royal Challengers Bangalore               Mumbai Indians        2   \n",
       "1632          Chennai Super Kings               Delhi Capitals        1   \n",
       "1633               Delhi Capitals          Chennai Super Kings        2   \n",
       "1634        Kolkata Knight Riders          Sunrisers Hyderabad        1   \n",
       "1635          Sunrisers Hyderabad        Kolkata Knight Riders        2   \n",
       "\n",
       "      TotalRuns  \n",
       "0           222  \n",
       "1            82  \n",
       "2           240  \n",
       "3           207  \n",
       "4           132  \n",
       "...         ...  \n",
       "1631        160  \n",
       "1632        188  \n",
       "1633        190  \n",
       "1634        187  \n",
       "1635        177  \n",
       "\n",
       "[1636 rows x 7 columns]"
      ]
     },
     "execution_count": 18,
     "metadata": {},
     "output_type": "execute_result"
    }
   ],
   "source": [
    "df_prepro"
   ]
  },
  {
   "cell_type": "code",
   "execution_count": 19,
   "id": "alternate-burning",
   "metadata": {},
   "outputs": [],
   "source": [
    "df_prepro=df_prepro.drop(columns=['match_id'])"
   ]
  },
  {
   "cell_type": "code",
   "execution_count": 20,
   "id": "intimate-scenario",
   "metadata": {},
   "outputs": [],
   "source": [
    "team_encoder = LabelEncoder()\n",
    "venue_encoder=OneHotEncoder(categories='auto',handle_unknown='ignore')"
   ]
  },
  {
   "cell_type": "code",
   "execution_count": 21,
   "id": "metropolitan-cambodia",
   "metadata": {},
   "outputs": [],
   "source": [
    "df_prepro['venue']=venue_encoder.fit_transform(df_prepro['venue'].values.reshape(-1,1)).toarray()\n",
    "df_prepro['batting_team']=team_encoder.fit_transform(df_prepro['batting_team'])\n",
    "df_prepro['bowling_team']=team_encoder.fit_transform(df_prepro['bowling_team'])"
   ]
  },
  {
   "cell_type": "code",
   "execution_count": 25,
   "id": "eastern-phoenix",
   "metadata": {},
   "outputs": [],
   "source": [
    "from sklearn.model_selection import GridSearchCV\n",
    "from sklearn.linear_model import Lasso, Ridge, ElasticNet, HuberRegressor, BayesianRidge,LinearRegression,LogisticRegression\n",
    "from sklearn.ensemble import RandomForestRegressor, BaggingRegressor, VotingRegressor, AdaBoostRegressor, GradientBoostingRegressor, ExtraTreesRegressor\n",
    "from sklearn.tree import DecisionTreeRegressor\n",
    "from sklearn.neighbors import KNeighborsRegressor"
   ]
  },
  {
   "cell_type": "code",
   "execution_count": 26,
   "id": "diverse-recognition",
   "metadata": {},
   "outputs": [],
   "source": [
    "X_train = df_prepro.drop(labels='TotalRuns', axis=1)[df_prepro['start_date'].dt.year <= 2018]\n",
    "X_test = df_prepro.drop(labels='TotalRuns', axis=1)[df_prepro['start_date'].dt.year >= 2019]"
   ]
  },
  {
   "cell_type": "code",
   "execution_count": 27,
   "id": "stable-piano",
   "metadata": {},
   "outputs": [],
   "source": [
    "y_train = df_prepro[df_prepro['start_date'].dt.year <= 2018]['TotalRuns'].values\n",
    "y_test = df_prepro[df_prepro['start_date'].dt.year >= 2019]['TotalRuns'].values"
   ]
  },
  {
   "cell_type": "code",
   "execution_count": 28,
   "id": "ranging-salon",
   "metadata": {},
   "outputs": [],
   "source": [
    "X_train.drop(labels='start_date', axis=True, inplace=True)\n",
    "X_test.drop(labels='start_date', axis=True, inplace=True)"
   ]
  },
  {
   "cell_type": "markdown",
   "id": "imposed-winner",
   "metadata": {},
   "source": [
    "# Linear Reg"
   ]
  },
  {
   "cell_type": "code",
   "execution_count": 29,
   "id": "minimal-discovery",
   "metadata": {},
   "outputs": [
    {
     "data": {
      "text/plain": [
       "LinearRegression()"
      ]
     },
     "execution_count": 29,
     "metadata": {},
     "output_type": "execute_result"
    }
   ],
   "source": [
    "from sklearn.linear_model import LinearRegression\n",
    "regressor = LinearRegression()\n",
    "regressor.fit(X_train,y_train)"
   ]
  },
  {
   "cell_type": "code",
   "execution_count": 30,
   "id": "instrumental-adventure",
   "metadata": {},
   "outputs": [
    {
     "data": {
      "text/plain": [
       "0.050272769109528936"
      ]
     },
     "execution_count": 30,
     "metadata": {},
     "output_type": "execute_result"
    }
   ],
   "source": [
    "regressor.score(X_train,y_train)"
   ]
  },
  {
   "cell_type": "code",
   "execution_count": 31,
   "id": "mounted-possession",
   "metadata": {},
   "outputs": [
    {
     "data": {
      "text/plain": [
       "-0.042909102661883525"
      ]
     },
     "execution_count": 31,
     "metadata": {},
     "output_type": "execute_result"
    }
   ],
   "source": [
    "regressor.score(X_test,y_test)"
   ]
  },
  {
   "cell_type": "code",
   "execution_count": 32,
   "id": "dominant-tsunami",
   "metadata": {},
   "outputs": [
    {
     "data": {
      "text/plain": [
       "array([ 71,  70, 183, 181, 213, 176, 184, 170, 150, 147, 218, 190, 187,\n",
       "       181, 198, 201, 176, 177, 185, 185, 113, 231, 175, 167, 152, 166,\n",
       "       164, 158, 133, 170, 129, 131, 206, 205, 160, 138, 136,  96, 152,\n",
       "       149, 140, 139, 151, 150, 111, 108, 198, 197, 155, 151, 180, 178,\n",
       "       187, 188, 173, 174, 162, 161, 155, 116, 172, 171, 182, 170, 132,\n",
       "       137, 128, 168, 203, 213, 161, 162, 166, 163, 159, 161, 160, 161,\n",
       "       193, 191, 176, 175, 185, 202, 175, 177, 109, 155, 161, 160, 187,\n",
       "       171, 232, 198, 167, 212,  41,  62, 179,  99, 162, 162, 185, 183,\n",
       "       121, 115, 178, 175, 170, 173, 133, 134, 131, 132, 165, 162, 151,\n",
       "       147, 148, 149, 166, 162, 157, 157, 163, 153, 200, 216, 146, 195,\n",
       "       206, 109, 131, 175, 145, 142, 223, 226, 201, 201, 147, 162, 174,\n",
       "       137, 191, 143, 157, 164, 154, 158, 228, 210, 181, 178, 208, 174,\n",
       "       196, 137, 193, 136, 157, 167, 132, 201, 184, 138, 164, 162, 132,\n",
       "       169, 163, 158, 162, 166, 112, 194, 167, 147, 161, 148, 177, 171,\n",
       "       148, 149, 179, 185, 177, 179, 163, 163, 176, 176, 125, 126, 164,\n",
       "       167,  84,  85, 154, 156, 114, 116, 135, 194, 126, 114, 195, 196,\n",
       "       150, 145, 149, 150, 131, 219, 166, 164, 178, 172, 185, 186, 120,\n",
       "       121, 110, 111, 154, 153, 191, 131, 154, 152, 149, 151, 143, 200,\n",
       "       131, 132, 189, 172, 156, 157, 159, 160, 188, 190, 187, 177],\n",
       "      dtype=int64)"
      ]
     },
     "execution_count": 32,
     "metadata": {},
     "output_type": "execute_result"
    }
   ],
   "source": [
    "y_test"
   ]
  },
  {
   "cell_type": "markdown",
   "id": "several-dynamics",
   "metadata": {},
   "source": [
    "# GBR"
   ]
  },
  {
   "cell_type": "code",
   "execution_count": 33,
   "id": "planned-dylan",
   "metadata": {},
   "outputs": [
    {
     "data": {
      "text/plain": [
       "GradientBoostingRegressor()"
      ]
     },
     "execution_count": 33,
     "metadata": {},
     "output_type": "execute_result"
    }
   ],
   "source": [
    "GBR= GradientBoostingRegressor()\n",
    "GBR.fit(X_train,y_train)"
   ]
  },
  {
   "cell_type": "code",
   "execution_count": 34,
   "id": "built-therapy",
   "metadata": {},
   "outputs": [
    {
     "data": {
      "text/plain": [
       "0.12926885825827417"
      ]
     },
     "execution_count": 34,
     "metadata": {},
     "output_type": "execute_result"
    }
   ],
   "source": [
    "GBR.score(X_train,y_train)"
   ]
  },
  {
   "cell_type": "code",
   "execution_count": 35,
   "id": "constitutional-circulation",
   "metadata": {},
   "outputs": [],
   "source": [
    "from sklearn.metrics import r2_score"
   ]
  },
  {
   "cell_type": "code",
   "execution_count": 36,
   "id": "joined-background",
   "metadata": {},
   "outputs": [],
   "source": [
    "y_predicted = GBR.predict(X_test)"
   ]
  },
  {
   "cell_type": "code",
   "execution_count": 38,
   "id": "ignored-enforcement",
   "metadata": {},
   "outputs": [],
   "source": [
    "import seaborn as sns"
   ]
  },
  {
   "cell_type": "code",
   "execution_count": 39,
   "id": "decimal-passing",
   "metadata": {},
   "outputs": [
    {
     "name": "stderr",
     "output_type": "stream",
     "text": [
      "C:\\Users\\admin\\anaconda3\\lib\\site-packages\\seaborn\\distributions.py:2557: FutureWarning: `distplot` is a deprecated function and will be removed in a future version. Please adapt your code to use either `displot` (a figure-level function with similar flexibility) or `histplot` (an axes-level function for histograms).\n",
      "  warnings.warn(msg, FutureWarning)\n"
     ]
    },
    {
     "data": {
      "text/plain": [
       "<AxesSubplot:ylabel='Density'>"
      ]
     },
     "execution_count": 39,
     "metadata": {},
     "output_type": "execute_result"
    },
    {
     "data": {
      "image/png": "[encoded data removed]",
      "text/plain": [
       "<Figure size 432x288 with 1 Axes>"
      ]
     },
     "metadata": {
      "needs_background": "light"
     },
     "output_type": "display_data"
    }
   ],
   "source": [
    "sns.distplot(y_test-y_predicted)"
   ]
  },
  {
   "cell_type": "code",
   "execution_count": 40,
   "id": "crazy-crazy",
   "metadata": {},
   "outputs": [
    {
     "data": {
      "text/plain": [
       "['GBR_regressor002.joblib']"
      ]
     },
     "execution_count": 40,
     "metadata": {},
     "output_type": "execute_result"
    }
   ],
   "source": [
    "joblib.dump(GBR, 'GBR_regressor002.joblib')"
   ]
  },
  {
   "cell_type": "code",
   "execution_count": 41,
   "id": "affected-maintenance",
   "metadata": {},
   "outputs": [
    {
     "data": {
      "text/plain": [
       "['player1_encoderr002.joblib']"
      ]
     },
     "execution_count": 41,
     "metadata": {},
     "output_type": "execute_result"
    }
   ],
   "source": [
    "joblib.dump(player1_encoder, 'player1_encoderr002.joblib')"
   ]
  },
  {
   "cell_type": "code",
   "execution_count": 42,
   "id": "olive-lyric",
   "metadata": {},
   "outputs": [
    {
     "data": {
      "text/plain": [
       "['player2_encoder002.joblib']"
      ]
     },
     "execution_count": 42,
     "metadata": {},
     "output_type": "execute_result"
    }
   ],
   "source": [
    "joblib.dump(player2_encoder, 'player2_encoder002.joblib')"
   ]
  },
  {
   "cell_type": "code",
   "execution_count": 43,
   "id": "mediterranean-platform",
   "metadata": {},
   "outputs": [
    {
     "data": {
      "text/plain": [
       "['venue_encoder002.joblib']"
      ]
     },
     "execution_count": 43,
     "metadata": {},
     "output_type": "execute_result"
    }
   ],
   "source": [
    "joblib.dump(venue_encoder, 'venue_encoder002.joblib')"
   ]
  },
  {
   "cell_type": "code",
   "execution_count": 44,
   "id": "mature-bracelet",
   "metadata": {
    "scrolled": true
   },
   "outputs": [
    {
     "data": {
      "text/plain": [
       "['team_encoder002.joblib']"
      ]
     },
     "execution_count": 44,
     "metadata": {},
     "output_type": "execute_result"
    }
   ],
   "source": [
    "joblib.dump(team_encoder, 'team_encoder002.joblib')#PICKLE MODEL CAN BE ALSO DONE"
   ]
  }
 ],
 "metadata": {
  "kernelspec": {
   "display_name": "Python 3",
   "language": "python",
   "name": "python3"
  },
  "language_info": {
   "codemirror_mode": {
    "name": "ipython",
    "version": 3
   },
   "file_extension": ".py",
   "mimetype": "text/x-python",
   "name": "python",
   "nbconvert_exporter": "python",
   "pygments_lexer": "ipython3",
   "version": "3.8.8"
  }
 },
 "nbformat": 4,
 "nbformat_minor": 5
}
