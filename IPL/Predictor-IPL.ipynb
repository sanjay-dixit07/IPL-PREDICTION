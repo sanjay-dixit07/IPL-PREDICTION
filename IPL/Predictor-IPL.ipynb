{
 "cells": [
  {
   "cell_type": "code",
   "execution_count": 2,
   "id": "brazilian-eight",
   "metadata": {},
   "outputs": [],
   "source": [
    "import joblib\n",
    "import pandas as pd\n",
    "from sklearn.preprocessing import LabelEncoder,OneHotEncoder"
   ]
  },
  {
   "cell_type": "code",
   "execution_count": 7,
   "id": "fantastic-transition",
   "metadata": {
    "scrolled": true
   },
   "outputs": [
    {
     "data": {
      "text/plain": [
       "165"
      ]
     },
     "execution_count": 7,
     "metadata": {},
     "output_type": "execute_result"
    }
   ],
   "source": [
    "def predictRuns(input_test):\n",
    "    with open('GBR_regressor002.joblib','rb') as f:\n",
    "        GBR_regressor002=joblib.load(f)\n",
    "    with open('team_encoder002.joblib','rb') as f:\n",
    "        team_encoder002=joblib.load(f)\n",
    "    with open('venue_encoder002.joblib','rb') as f:\n",
    "        venue_encoder002=joblib.load(f)\n",
    "    with open('player1_encoderr002.joblib','rb') as f:\n",
    "        player1_encoder=joblib.load(f)\n",
    "    with open('player2_encoder002.joblib','rb') as f:\n",
    "        player2_encoder=joblib.load(f)\n",
    "    test_case=pd.read_csv(input_test)\n",
    "    \n",
    "    test_case['venue']=venue_encoder002.transform(test_case['venue'].values.reshape(-1,1)).toarray()\n",
    "    test_case['batting_team']=team_encoder002.transform(test_case['batting_team'])\n",
    "    test_case['bowling_team']=team_encoder002.transform(test_case['bowling_team'])\n",
    "    \n",
    "    \n",
    "    \n",
    "    \n",
    "    \n",
    "\n",
    "\n",
    "\n",
    "        \n",
    "    test_case=test_case[['venue','innings','batting_team','bowling_team']]\n",
    "    \n",
    "    score=GBR_regressor002.predict(test_case)\n",
    "    score=sum(score)\n",
    "       \n",
    "    return int(score)\n",
    "\n",
    "\n",
    "predictRuns(r'23_inn1.csv')"
   ]
  }
 ],
 "metadata": {
  "kernelspec": {
   "display_name": "Python 3",
   "language": "python",
   "name": "python3"
  },
  "language_info": {
   "codemirror_mode": {
    "name": "ipython",
    "version": 3
   },
   "file_extension": ".py",
   "mimetype": "text/x-python",
   "name": "python",
   "nbconvert_exporter": "python",
   "pygments_lexer": "ipython3",
   "version": "3.8.8"
  }
 },
 "nbformat": 4,
 "nbformat_minor": 5
}
